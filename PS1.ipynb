{
 "cells": [
  {
   "cell_type": "code",
   "execution_count": 5,
   "id": "68919053-107d-407d-be2e-ff4680dc8185",
   "metadata": {},
   "outputs": [],
   "source": [
    "import numpy as np\n",
    "import pandas as pd\n",
    "from scipy import optimize"
   ]
  },
  {
   "cell_type": "markdown",
   "id": "fb58f0ce-1bd8-4064-b2df-652d74c39628",
   "metadata": {},
   "source": [
    "**Exercises**\n",
    "$$ \n",
    "u(x_1,x_2) = (\\alpha x_1^{-\\beta} + (1-\\alpha) x_2^{-\\beta})^{-1/\\beta} \n",
    "$$\n",
    "\n",
    "Define this function:"
   ]
  },
  {
   "cell_type": "code",
   "execution_count": 5,
   "id": "deb552ab-c3ad-4116-8d61-28b2522a8ebf",
   "metadata": {},
   "outputs": [],
   "source": [
    "def u(x1,x2,alpha=0.5,beta=1):\n",
    "    return (alpha*x1**(-beta) + (1-alpha)*x2**(-beta))**(-1/beta)"
   ]
  },
  {
   "cell_type": "code",
   "execution_count": 1,
   "id": "97e66c0c-76b6-4932-8f64-3a3c2db05c76",
   "metadata": {},
   "outputs": [],
   "source": [
    "x1_vec = [1.05,1.3,2.3,2.5,3.1]\n",
    "x2_vec = [1.05,1.3,2.3,2.5,3.1]"
   ]
  },
  {
   "cell_type": "markdown",
   "id": "0a908670-8671-44b5-995a-b83fb35926dd",
   "metadata": {},
   "source": [
    "Construct a Python function `print_table(x1_vec,x2_vec)` to print values of `u(x1,x2)` in the table form shown below."
   ]
  },
  {
   "cell_type": "code",
   "execution_count": 4,
   "id": "6dd355e3-867d-42c3-a52c-efc3d823ef1d",
   "metadata": {},
   "outputs": [],
   "source": [
    "def print_table(x1_vec,x2_vec):\n",
    "    \n",
    "    # a. empty text\n",
    "    text = ''\n",
    "    \n",
    "    # b. top header\n",
    "    text += f'{\"\":3s}'\n",
    "    for j, x2 in enumerate(x2_vec):\n",
    "       text += f'{j:6d}' \n",
    "    text += '\\n' # line shift\n",
    "    \n",
    "    # c. body\n",
    "    for i, x1 in enuerate(x1_vec):\n",
    "        if i > 0\n",
    "    \n",
    "    # d. print\n",
    "    print(text) "
   ]
  },
  {
   "cell_type": "code",
   "execution_count": null,
   "id": "019767cd-3ad4-4d6b-b5fa-e49a97a5b9d0",
   "metadata": {},
   "outputs": [],
   "source": []
  },
  {
   "cell_type": "code",
   "execution_count": null,
   "id": "d1856743-6922-45b1-8d5b-e05c24ffd28d",
   "metadata": {},
   "outputs": [],
   "source": []
  }
 ],
 "metadata": {
  "kernelspec": {
   "display_name": "Python 3 (ipykernel)",
   "language": "python",
   "name": "python3"
  },
  "language_info": {
   "codemirror_mode": {
    "name": "ipython",
    "version": 3
   },
   "file_extension": ".py",
   "mimetype": "text/x-python",
   "name": "python",
   "nbconvert_exporter": "python",
   "pygments_lexer": "ipython3",
   "version": "3.8.12"
  }
 },
 "nbformat": 4,
 "nbformat_minor": 5
}
