{
 "cells": [
  {
   "cell_type": "code",
   "execution_count": 36,
   "id": "d4af541f-ba46-452f-a025-5f7b1a63ce18",
   "metadata": {},
   "outputs": [
    {
     "ename": "ValueError",
     "evalue": "Unknown solver bounded",
     "output_type": "error",
     "traceback": [
      "\u001b[0;31m---------------------------------------------------------------------------\u001b[0m",
      "\u001b[0;31mValueError\u001b[0m                                Traceback (most recent call last)",
      "\u001b[0;32m/var/folders/xj/mqfsdpqj5ngfhp13j81lmb5c0000gn/T/ipykernel_49747/2927161661.py\u001b[0m in \u001b[0;36m<module>\u001b[0;34m\u001b[0m\n\u001b[1;32m      2\u001b[0m \u001b[0;32mfrom\u001b[0m \u001b[0mscipy\u001b[0m \u001b[0;32mimport\u001b[0m \u001b[0moptimize\u001b[0m\u001b[0;34m\u001b[0m\u001b[0;34m\u001b[0m\u001b[0m\n\u001b[1;32m      3\u001b[0m \u001b[0;32mimport\u001b[0m \u001b[0mmatplotlib\u001b[0m\u001b[0;34m.\u001b[0m\u001b[0mpyplot\u001b[0m \u001b[0;32mas\u001b[0m \u001b[0mplt\u001b[0m\u001b[0;34m\u001b[0m\u001b[0;34m\u001b[0m\u001b[0m\n\u001b[0;32m----> 4\u001b[0;31m \u001b[0;32mimport\u001b[0m \u001b[0minauguralproject\u001b[0m\u001b[0;34m\u001b[0m\u001b[0;34m\u001b[0m\u001b[0m\n\u001b[0m",
      "\u001b[0;32m~/Dropbox/Københavns Universitet/Master/Introduction_programming/NumEcon2022/inaugural project/inauguralproject.py\u001b[0m in \u001b[0;36m<module>\u001b[0;34m\u001b[0m\n\u001b[1;32m     60\u001b[0m     \u001b[0;32mreturn\u001b[0m \u001b[0;34m[\u001b[0m\u001b[0mc_star\u001b[0m\u001b[0;34m,\u001b[0m \u001b[0mh_star\u001b[0m\u001b[0;34m,\u001b[0m \u001b[0mu_star\u001b[0m\u001b[0;34m]\u001b[0m\u001b[0;34m\u001b[0m\u001b[0;34m\u001b[0m\u001b[0m\n\u001b[1;32m     61\u001b[0m \u001b[0;34m\u001b[0m\u001b[0m\n\u001b[0;32m---> 62\u001b[0;31m \u001b[0mc_star\u001b[0m \u001b[0;34m=\u001b[0m \u001b[0mopt\u001b[0m\u001b[0;34m(\u001b[0m\u001b[0mm\u001b[0m\u001b[0;34m,\u001b[0m \u001b[0mphi\u001b[0m\u001b[0;34m,\u001b[0m \u001b[0me\u001b[0m\u001b[0;34m,\u001b[0m \u001b[0mr\u001b[0m\u001b[0;34m,\u001b[0m\u001b[0mt_g\u001b[0m\u001b[0;34m,\u001b[0m\u001b[0mt_p\u001b[0m\u001b[0;34m,\u001b[0m\u001b[0mp_bar\u001b[0m\u001b[0;34m)\u001b[0m\u001b[0;34m\u001b[0m\u001b[0;34m\u001b[0m\u001b[0m\n\u001b[0m\u001b[1;32m     63\u001b[0m \u001b[0mh_star\u001b[0m \u001b[0;34m=\u001b[0m \u001b[0mopt\u001b[0m\u001b[0;34m(\u001b[0m\u001b[0mm\u001b[0m\u001b[0;34m,\u001b[0m \u001b[0mphi\u001b[0m\u001b[0;34m,\u001b[0m \u001b[0me\u001b[0m\u001b[0;34m,\u001b[0m \u001b[0mr\u001b[0m\u001b[0;34m,\u001b[0m\u001b[0mt_g\u001b[0m\u001b[0;34m,\u001b[0m\u001b[0mt_p\u001b[0m\u001b[0;34m,\u001b[0m\u001b[0mp_bar\u001b[0m\u001b[0;34m)\u001b[0m\u001b[0;34m\u001b[0m\u001b[0;34m\u001b[0m\u001b[0m\n\u001b[1;32m     64\u001b[0m \u001b[0mu_star\u001b[0m \u001b[0;34m=\u001b[0m \u001b[0mopt\u001b[0m\u001b[0;34m(\u001b[0m\u001b[0mm\u001b[0m\u001b[0;34m,\u001b[0m \u001b[0mphi\u001b[0m\u001b[0;34m,\u001b[0m \u001b[0me\u001b[0m\u001b[0;34m,\u001b[0m \u001b[0mr\u001b[0m\u001b[0;34m,\u001b[0m\u001b[0mt_g\u001b[0m\u001b[0;34m,\u001b[0m\u001b[0mt_p\u001b[0m\u001b[0;34m,\u001b[0m\u001b[0mp_bar\u001b[0m\u001b[0;34m)\u001b[0m\u001b[0;34m\u001b[0m\u001b[0;34m\u001b[0m\u001b[0m\n",
      "\u001b[0;32m~/Dropbox/Københavns Universitet/Master/Introduction_programming/NumEcon2022/inaugural project/inauguralproject.py\u001b[0m in \u001b[0;36mopt\u001b[0;34m(m, phi, e, r, t_g, t_p, p_bar)\u001b[0m\n\u001b[1;32m     54\u001b[0m         result = prints the results \"\"\"\n\u001b[1;32m     55\u001b[0m     \u001b[0mx_guess\u001b[0m \u001b[0;34m=\u001b[0m \u001b[0;34m(\u001b[0m\u001b[0;36m0\u001b[0m\u001b[0;34m,\u001b[0m\u001b[0;36m0\u001b[0m\u001b[0;34m)\u001b[0m\u001b[0;34m\u001b[0m\u001b[0;34m\u001b[0m\u001b[0m\n\u001b[0;32m---> 56\u001b[0;31m     \u001b[0mresult\u001b[0m \u001b[0;34m=\u001b[0m \u001b[0moptimize\u001b[0m\u001b[0;34m.\u001b[0m\u001b[0mminimize\u001b[0m\u001b[0;34m(\u001b[0m\u001b[0mobj_function\u001b[0m\u001b[0;34m,\u001b[0m \u001b[0mx0\u001b[0m \u001b[0;34m=\u001b[0m\u001b[0mx_guess\u001b[0m\u001b[0;34m,\u001b[0m \u001b[0mmethod\u001b[0m\u001b[0;34m=\u001b[0m\u001b[0;34m'bounded'\u001b[0m\u001b[0;34m,\u001b[0m \u001b[0mbounds\u001b[0m\u001b[0;34m=\u001b[0m\u001b[0;34m(\u001b[0m\u001b[0;36m0\u001b[0m\u001b[0;34m,\u001b[0m\u001b[0;36m1\u001b[0m\u001b[0;34m)\u001b[0m\u001b[0;34m,\u001b[0m \u001b[0margs\u001b[0m\u001b[0;34m=\u001b[0m\u001b[0;34m(\u001b[0m\u001b[0mm\u001b[0m\u001b[0;34m,\u001b[0m \u001b[0mphi\u001b[0m\u001b[0;34m,\u001b[0m \u001b[0me\u001b[0m\u001b[0;34m,\u001b[0m \u001b[0mr\u001b[0m\u001b[0;34m,\u001b[0m\u001b[0mt_g\u001b[0m\u001b[0;34m,\u001b[0m\u001b[0mt_p\u001b[0m\u001b[0;34m,\u001b[0m\u001b[0mp_bar\u001b[0m\u001b[0;34m)\u001b[0m\u001b[0;34m)\u001b[0m\u001b[0;34m\u001b[0m\u001b[0;34m\u001b[0m\u001b[0m\n\u001b[0m\u001b[1;32m     57\u001b[0m     \u001b[0mc_star\u001b[0m \u001b[0;34m=\u001b[0m \u001b[0mresult\u001b[0m\u001b[0;34m.\u001b[0m\u001b[0mx\u001b[0m\u001b[0;34m\u001b[0m\u001b[0;34m\u001b[0m\u001b[0m\n\u001b[1;32m     58\u001b[0m     \u001b[0mh_star\u001b[0m \u001b[0;34m=\u001b[0m \u001b[0mcons\u001b[0m\u001b[0;34m(\u001b[0m\u001b[0mm\u001b[0m\u001b[0;34m,\u001b[0m \u001b[0mphi\u001b[0m\u001b[0;34m,\u001b[0m \u001b[0me\u001b[0m\u001b[0;34m,\u001b[0m \u001b[0mr\u001b[0m\u001b[0;34m,\u001b[0m\u001b[0mt_g\u001b[0m\u001b[0;34m,\u001b[0m\u001b[0mt_p\u001b[0m\u001b[0;34m,\u001b[0m\u001b[0mp_bar\u001b[0m\u001b[0;34m)\u001b[0m\u001b[0;34m\u001b[0m\u001b[0;34m\u001b[0m\u001b[0m\n",
      "\u001b[0;32m~/opt/anaconda3/lib/python3.8/site-packages/scipy/optimize/_minimize.py\u001b[0m in \u001b[0;36mminimize\u001b[0;34m(fun, x0, args, method, jac, hess, hessp, bounds, constraints, tol, callback, options)\u001b[0m\n\u001b[1;32m    648\u001b[0m                                            callback=callback, **options)\n\u001b[1;32m    649\u001b[0m     \u001b[0;32melse\u001b[0m\u001b[0;34m:\u001b[0m\u001b[0;34m\u001b[0m\u001b[0;34m\u001b[0m\u001b[0m\n\u001b[0;32m--> 650\u001b[0;31m         \u001b[0;32mraise\u001b[0m \u001b[0mValueError\u001b[0m\u001b[0;34m(\u001b[0m\u001b[0;34m'Unknown solver %s'\u001b[0m \u001b[0;34m%\u001b[0m \u001b[0mmethod\u001b[0m\u001b[0;34m)\u001b[0m\u001b[0;34m\u001b[0m\u001b[0;34m\u001b[0m\u001b[0m\n\u001b[0m\u001b[1;32m    651\u001b[0m \u001b[0;34m\u001b[0m\u001b[0m\n\u001b[1;32m    652\u001b[0m \u001b[0;34m\u001b[0m\u001b[0m\n",
      "\u001b[0;31mValueError\u001b[0m: Unknown solver bounded"
     ]
    }
   ],
   "source": [
    "import numpy as np\n",
    "from scipy import optimize\n",
    "import matplotlib.pyplot as plt\n",
    "import inauguralproject"
   ]
  },
  {
   "cell_type": "markdown",
   "id": "c70ef402-00c4-41ee-b675-99c4a9c626d5",
   "metadata": {},
   "source": [
    "# Inaugual project"
   ]
  },
  {
   "cell_type": "markdown",
   "id": "e5aeb005-6406-4ee2-a211-e48417c961e7",
   "metadata": {},
   "source": [
    "We consider the following model for a household looking for at home. $m$ represents the amount of cash-on-hand which the house either spend ons housing or consumption, $c$.\n",
    "\n",
    "$h$ is the utillity from housing quality and has the price $p_h$ (market value).\n",
    "\n",
    "The housing price is subject to a progressive taxation and mortage costs, namely $\\tau(\\cdot)$."
   ]
  },
  {
   "cell_type": "markdown",
   "id": "6ff7bc74-9548-46fa-bbad-555358dc86cc",
   "metadata": {},
   "source": [
    "\\begin{align}\n",
    "c^*, h^* &= arg \\max_{c,h} c^{1-\\phi} h^\\phi \\\\\n",
    "& s.t. \\\\\n",
    "\\tilde{p}_h &= p_h \\varepsilon \\\\\n",
    "m &= \\tau(p_h, \\tilde{p}_h) + c \\\\\n",
    "\\tau(p_h, \\tilde{p}_h) &= r p_h + \\tau^g \\tilde{p}_h + \\tau^p \\max \\{\\tilde{p}_h-\\bar{p},0\\}\n",
    "\\end{align}"
   ]
  },
  {
   "cell_type": "markdown",
   "id": "f5f37008-7d2e-4291-8e4a-30ad43bad01e",
   "metadata": {},
   "source": [
    "According to this set of equations, homes are not taxed at their market value, $p_h$ but instead to a public valuation, $\\tilde{p}_h$. This assessment is politixally set below the market value by the factor, $\\varepsilon$. This can be seen in equation (2).\n",
    "\n",
    "Equation (3) states that the cash-on-hand is difference between housing costs and consumption.\n",
    "\n",
    "First part of (4) states that the household will purchase its home with no down-payment and only interest, r. The 2nd element is the base houseing tax levied on the assessment. The last element exhibits the progressive houseing tax. That is houses valued above the cutoff, $\\bar{p}$, are taxed at an additional rate of $\\tau^p$"
   ]
  },
  {
   "cell_type": "markdown",
   "id": "e038f6f2-64e2-48a4-bf28-7009e108b9d9",
   "metadata": {
    "tags": []
   },
   "source": [
    "**1) Construct a function that solves household's problem above**\n",
    "\n",
    "We let the market price of a home to be equal to it's quality: \n",
    "\n",
    "$$\n",
    "p_h=h\n",
    "$$"
   ]
  },
  {
   "cell_type": "code",
   "execution_count": 38,
   "id": "646d1747-1072-4369-8f9f-185664c27387",
   "metadata": {},
   "outputs": [],
   "source": [
    "dic={\n",
    "    \"m\":0.5,\n",
    "    \"phi\":0.3, \n",
    "    \"e\":0.5, \n",
    "    \"r\":0.03, \n",
    "    \"t_g\":0.012, \n",
    "    \"t_p\":0.04, \n",
    "    \"p_bar\":3\n",
    "}"
   ]
  },
  {
   "cell_type": "markdown",
   "id": "e66b6b66-5160-436a-9718-ce7dc8d0fc2c",
   "metadata": {},
   "source": []
  },
  {
   "cell_type": "code",
   "execution_count": null,
   "id": "e7536147-d1bd-41fd-a07d-cdae0fc133e8",
   "metadata": {},
   "outputs": [],
   "source": []
  },
  {
   "cell_type": "markdown",
   "id": "fade7a95-df46-46f1-b4d6-4cfebe5b8c70",
   "metadata": {},
   "source": []
  },
  {
   "cell_type": "code",
   "execution_count": 14,
   "id": "efc49680-78c5-47a2-aec3-52a74ba04172",
   "metadata": {},
   "outputs": [],
   "source": []
  },
  {
   "cell_type": "markdown",
   "id": "66f928f3-8fbc-4cde-91ae-ddda4217f588",
   "metadata": {},
   "source": [
    "\n"
   ]
  },
  {
   "cell_type": "code",
   "execution_count": 15,
   "id": "fc3d16b6-9d8a-4716-8f8a-6f78071960a5",
   "metadata": {},
   "outputs": [],
   "source": []
  },
  {
   "cell_type": "code",
   "execution_count": null,
   "id": "d4ac2cc2-b05d-419f-b608-ac04902b31ff",
   "metadata": {},
   "outputs": [],
   "source": []
  },
  {
   "cell_type": "code",
   "execution_count": null,
   "id": "792afebc-ffe8-40af-b843-3a969d01a506",
   "metadata": {},
   "outputs": [],
   "source": []
  }
 ],
 "metadata": {
  "kernelspec": {
   "display_name": "Python 3 (ipykernel)",
   "language": "python",
   "name": "python3"
  },
  "language_info": {
   "codemirror_mode": {
    "name": "ipython",
    "version": 3
   },
   "file_extension": ".py",
   "mimetype": "text/x-python",
   "name": "python",
   "nbconvert_exporter": "python",
   "pygments_lexer": "ipython3",
   "version": "3.8.12"
  }
 },
 "nbformat": 4,
 "nbformat_minor": 5
}
